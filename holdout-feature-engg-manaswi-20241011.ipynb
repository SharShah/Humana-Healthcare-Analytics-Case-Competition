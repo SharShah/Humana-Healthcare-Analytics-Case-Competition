{
 "cells": [
  {
   "cell_type": "code",
   "execution_count": 2,
   "id": "a23950d2-98cc-49b9-b9e6-5871928871aa",
   "metadata": {},
   "outputs": [
    {
     "name": "stdout",
     "output_type": "stream",
     "text": [
      "   calendar_year product_type       plan_category       id\n",
      "0           2023         LPPO  Medicare Advantage  1387512\n",
      "1           2023         LPPO  Medicare Advantage   787578\n",
      "2           2023         LPPO  Medicare Advantage  1362865\n",
      "3           2023         LPPO  Medicare Advantage  1400934\n",
      "4           2023         LPPO  Medicare Advantage   274872\n",
      "        id\n",
      "0  1387512\n",
      "1   787578\n",
      "2  1362865\n",
      "3  1400934\n",
      "4   274872\n",
      "381858\n"
     ]
    }
   ],
   "source": [
    "import pandas as pd\n",
    "\n",
    "# Load the two CSV files\n",
    "df_TargetMembers = pd.read_csv('humana_mays_target_members_Holdout.csv')\n",
    "df_exclude = pd.read_excel('ID_drop.xlsx')\n",
    "\n",
    "# Extract the IDs from exclude.csv\n",
    "exclude_ids = df_exclude['id'].tolist()\n",
    "\n",
    "# Filter rows from df_data where the ID is not in exclude_ids\n",
    "df_filtered_TargetMembers = df_TargetMembers[~df_TargetMembers['id'].isin(exclude_ids)]\n",
    "\n",
    "print(df_filtered_TargetMembers.head())\n",
    "\n",
    "columns_to_drop = ['plan_category', 'product_type','calendar_year' ]  # Replace with your actual column names\n",
    "final_targetmembers = df_filtered_TargetMembers.drop(columns=columns_to_drop)\n",
    "\n",
    "print(final_targetmembers.head())\n",
    "print(len(final_targetmembers))"
   ]
  },
  {
   "cell_type": "code",
   "execution_count": 2,
   "id": "d5c40592-2e27-4385-aebc-05f1b50319aa",
   "metadata": {},
   "outputs": [
    {
     "name": "stdout",
     "output_type": "stream",
     "text": [
      "381976\n"
     ]
    }
   ],
   "source": [
    "demographics = pd.read_csv('Demographics_Holdout.csv')\n",
    "\n",
    "drop_columns = ['riskarr_global','riskarr_rewards']\n",
    "final_demographics = demographics.drop(columns=drop_columns)\n",
    "print(len(final_demographics))"
   ]
  },
  {
   "cell_type": "code",
   "execution_count": 3,
   "id": "4921ecf0-4460-4512-9827-f9c0b765699e",
   "metadata": {},
   "outputs": [
    {
     "name": "stdout",
     "output_type": "stream",
     "text": [
      "        id  riskarr_downside  riskarr_upside  riskarr_rewards  riskarr_global\n",
      "0  1387512               0.0             0.0              0.0             0.0\n",
      "1   787578               1.0             0.0              0.0             0.0\n",
      "2  1362865               0.0             0.0              0.0             0.0\n",
      "3  1400934               0.0             0.0              1.0             0.0\n",
      "4   274872               0.0             1.0              0.0             0.0\n",
      "381858\n"
     ]
    }
   ],
   "source": [
    "final_csv1 = pd.merge(final_targetmembers, final_demographics, on='id', how='inner')\n",
    "print(final_csv1.head())\n",
    "print(len(final_csv1))"
   ]
  },
  {
   "cell_type": "code",
   "execution_count": 4,
   "id": "cc462637-8659-4ec9-bf68-e35c379036d4",
   "metadata": {},
   "outputs": [
    {
     "name": "stdout",
     "output_type": "stream",
     "text": [
      "381976\n"
     ]
    }
   ],
   "source": [
    "web_activity = pd.read_csv('Web Activity_Holdout.csv')\n",
    "\n",
    "drop_columns = ['login_count_0','login_count_1', 'login_count_2', 'login_count_3', 'login_count_4', 'login_count_5', 'login_count_6', 'login_count_7', 'login_count_8', 'login_count_9', 'login_count_10', 'login_count_11']\n",
    "final_web_acitvity = web_activity.drop(columns=drop_columns)\n",
    "print(len(final_web_acitvity))"
   ]
  },
  {
   "cell_type": "code",
   "execution_count": 5,
   "id": "f8370862-3a73-4df3-8477-c3c140049cd2",
   "metadata": {},
   "outputs": [
    {
     "name": "stdout",
     "output_type": "stream",
     "text": [
      "        id  riskarr_downside  riskarr_upside  riskarr_rewards  riskarr_global  \\\n",
      "0  1387512               0.0             0.0              0.0             0.0   \n",
      "1   787578               1.0             0.0              0.0             0.0   \n",
      "2  1362865               0.0             0.0              0.0             0.0   \n",
      "3  1400934               0.0             0.0              1.0             0.0   \n",
      "4   274872               0.0             1.0              0.0             0.0   \n",
      "\n",
      "   days_since_last_login  login_pmpm_ct  \n",
      "0                  480.0       0.000000  \n",
      "1                  480.0       0.000000  \n",
      "2                  480.0       0.000000  \n",
      "3                   11.0       2.083333  \n",
      "4                  480.0       0.000000  \n",
      "381858\n"
     ]
    }
   ],
   "source": [
    "final_csv3 = pd.merge(final_csv1, final_web_acitvity, on='id', how='inner')\n",
    "print(final_csv3.head())\n",
    "print(len(final_csv3))"
   ]
  },
  {
   "cell_type": "code",
   "execution_count": 6,
   "id": "c14298c6-45da-4745-b37e-6fc954eb001b",
   "metadata": {},
   "outputs": [
    {
     "name": "stdout",
     "output_type": "stream",
     "text": [
      "   rx_overall_net_paid_pmpm_cost       id\n",
      "0                     148.362500   753020\n",
      "1                     635.229200   552444\n",
      "2                     266.737500   404717\n",
      "3                     137.089170  1669960\n",
      "4                       8.576667   357050\n",
      "381976\n"
     ]
    }
   ],
   "source": [
    "import pandas as pd\n",
    "\n",
    "# Specify the columns you want to read\n",
    "columns_to_read = ['rx_overall_dist_gpi6_pmpm_ct', 'rx_overall_net_paid_pmpm_cost', 'rx_tier_1_pmpm_ct', 'rx_tier_2_pmpm_ct', 'id']  # Replace with actual column names\n",
    "\n",
    "# Read only the specified columns\n",
    "df_pharmacy = pd.read_csv('Pharmacy Utilization_Holdout.csv', usecols=columns_to_read)\n",
    "\n",
    "# Display the DataFrame\n",
    "print(df_pharmacy.head())\n",
    "print(len(df_pharmacy))"
   ]
  },
  {
   "cell_type": "code",
   "execution_count": 7,
   "id": "2a37dcbf-455e-42cd-bc9a-a5dc553fb247",
   "metadata": {},
   "outputs": [
    {
     "name": "stdout",
     "output_type": "stream",
     "text": [
      "        id  riskarr_downside  riskarr_upside  riskarr_rewards  riskarr_global  \\\n",
      "0  1387512               0.0             0.0              0.0             0.0   \n",
      "1   787578               1.0             0.0              0.0             0.0   \n",
      "2  1362865               0.0             0.0              0.0             0.0   \n",
      "3  1400934               0.0             0.0              1.0             0.0   \n",
      "4   274872               0.0             1.0              0.0             0.0   \n",
      "\n",
      "   days_since_last_login  login_pmpm_ct  rx_overall_net_paid_pmpm_cost  \n",
      "0                  480.0       0.000000                       1.088889  \n",
      "1                  480.0       0.000000                     335.002500  \n",
      "2                  480.0       0.000000                       0.000000  \n",
      "3                   11.0       2.083333                      89.478330  \n",
      "4                  480.0       0.000000                       0.641667  \n",
      "381858\n"
     ]
    }
   ],
   "source": [
    "final_csv4 = pd.merge(final_csv3, df_pharmacy, on='id', how='inner')\n",
    "print(final_csv4.head())\n",
    "print(len(final_csv4))"
   ]
  },
  {
   "cell_type": "code",
   "execution_count": 8,
   "id": "ac071d74-8708-419f-8ae1-45de71a5c96d",
   "metadata": {},
   "outputs": [
    {
     "name": "stdout",
     "output_type": "stream",
     "text": [
      "   total_mbr_resp_pmpm_cost       id\n",
      "0                147.170000   753020\n",
      "1                142.523333   552444\n",
      "2                140.154167   404717\n",
      "3                 43.747500  1669960\n",
      "4                153.224167   357050\n",
      "381976\n"
     ]
    }
   ],
   "source": [
    "import pandas as pd\n",
    "\n",
    "# Specify the columns you want to read\n",
    "columns_to_read = ['total_allowed_pmpm_cost','total_cob_paid_pmpm_cost','total_coins_pmpm_cost','total_copay_pmpm_cost','total_deduct_pmpm_cost',\n",
    "                   'total_ip_acute_admit_days_pmpm','total_ip_ltach_admit_days_pmpm','total_ip_maternity_admit_days_pmpm',\n",
    "                   'total_ip_mhsa_admit_days_pmpm','total_ip_rehab_admit_days_pmpm','total_ip_snf_admit_days_pmpm','total_mbr_resp_pmpm_cost',\n",
    "                   'total_net_paid_pmpm_cost', 'id']  # Replace with actual column names\n",
    "\n",
    "# Read only the specified columns\n",
    "df_cost_and_utilization = pd.read_csv('Cost & Utilization_Holdout.csv', usecols=columns_to_read)\n",
    "\n",
    "# Display the DataFrame\n",
    "print(df_cost_and_utilization.head())\n",
    "print(len(df_cost_and_utilization))"
   ]
  },
  {
   "cell_type": "code",
   "execution_count": 9,
   "id": "063d6c33-e91a-42a4-b92d-9d6e944e2a65",
   "metadata": {},
   "outputs": [
    {
     "name": "stdout",
     "output_type": "stream",
     "text": [
      "        id  riskarr_downside  riskarr_upside  riskarr_rewards  riskarr_global  \\\n",
      "0  1387512               0.0             0.0              0.0             0.0   \n",
      "1   787578               1.0             0.0              0.0             0.0   \n",
      "2  1362865               0.0             0.0              0.0             0.0   \n",
      "3  1400934               0.0             0.0              1.0             0.0   \n",
      "4   274872               0.0             1.0              0.0             0.0   \n",
      "\n",
      "   days_since_last_login  login_pmpm_ct  rx_overall_net_paid_pmpm_cost  \\\n",
      "0                  480.0       0.000000                       1.088889   \n",
      "1                  480.0       0.000000                     335.002500   \n",
      "2                  480.0       0.000000                       0.000000   \n",
      "3                   11.0       2.083333                      89.478330   \n",
      "4                  480.0       0.000000                       0.641667   \n",
      "\n",
      "   total_mbr_resp_pmpm_cost  \n",
      "0                 47.777778  \n",
      "1                 44.702500  \n",
      "2                  2.916667  \n",
      "3                 17.205833  \n",
      "4                 15.806667  \n",
      "381858\n"
     ]
    }
   ],
   "source": [
    "final_csv5 = pd.merge(final_csv4, df_cost_and_utilization, on='id', how='inner')\n",
    "print(final_csv5.head())\n",
    "print(len(final_csv5))"
   ]
  },
  {
   "cell_type": "code",
   "execution_count": 10,
   "id": "b3e6fb78-8c30-43c7-a927-f1047f150d6b",
   "metadata": {},
   "outputs": [
    {
     "name": "stdout",
     "output_type": "stream",
     "text": [
      "   cnt_cp_emails_pmpm_ct  cnt_cp_print_pmpm_ct  cnt_cp_vat_pmpm_ct  \\\n",
      "0               0.000000              1.500000            0.083333   \n",
      "1               0.250000              1.416667            3.916667   \n",
      "2               0.000000              1.583333            0.083333   \n",
      "3               0.333333              1.416667            0.250000   \n",
      "4               8.250000              0.416667            0.083333   \n",
      "\n",
      "   cnt_cp_webstatement_pmpm_ct       id  \n",
      "0                     6.916666   753020  \n",
      "1                     5.166666   552444  \n",
      "2                     3.083333   404717  \n",
      "3                     3.333333  1669960  \n",
      "4                     7.583334   357050  \n",
      "        id  riskarr_downside  riskarr_upside  riskarr_rewards  riskarr_global  \\\n",
      "0  1387512               0.0             0.0              0.0             0.0   \n",
      "1   787578               1.0             0.0              0.0             0.0   \n",
      "2  1362865               0.0             0.0              0.0             0.0   \n",
      "3  1400934               0.0             0.0              1.0             0.0   \n",
      "4   274872               0.0             1.0              0.0             0.0   \n",
      "\n",
      "   days_since_last_login  login_pmpm_ct  rx_overall_net_paid_pmpm_cost  \\\n",
      "0                  480.0       0.000000                       1.088889   \n",
      "1                  480.0       0.000000                     335.002500   \n",
      "2                  480.0       0.000000                       0.000000   \n",
      "3                   11.0       2.083333                      89.478330   \n",
      "4                  480.0       0.000000                       0.641667   \n",
      "\n",
      "   total_mbr_resp_pmpm_cost  cnt_cp_emails_pmpm_ct  cnt_cp_print_pmpm_ct  \\\n",
      "0                 47.777778               2.333333              1.555556   \n",
      "1                 44.702500               0.000000              1.416667   \n",
      "2                  2.916667               0.000000              1.083333   \n",
      "3                 17.205833               3.250000              0.416667   \n",
      "4                 15.806667               0.000000              0.833333   \n",
      "\n",
      "   cnt_cp_vat_pmpm_ct  cnt_cp_webstatement_pmpm_ct  \n",
      "0            1.444444                     4.333334  \n",
      "1            0.500000                     2.750000  \n",
      "2            0.250000                     1.666667  \n",
      "3            4.500000                     1.333333  \n",
      "4            0.416667                     1.416667  \n",
      "381858\n"
     ]
    }
   ],
   "source": [
    "import pandas as pd\n",
    "\n",
    "\n",
    "# Specify the columns you want to read\n",
    "columns_to_read = ['cnt_cp_emails_pmpm_ct', 'cnt_cp_print_pmpm_ct','cnt_cp_vat_pmpm_ct','cnt_cp_webstatement_pmpm_ct','id']  # Replace with actual column names\n",
    "\n",
    "# Read only the specified columns\n",
    "df_control_point = pd.read_csv('Control Point_Holdout.csv', usecols=columns_to_read)\n",
    "\n",
    "# Display the DataFrame\n",
    "print(df_control_point.head())\n",
    "\n",
    "final_csv7 = pd.merge(final_csv5, df_control_point, on='id', how='inner')\n",
    "print(final_csv7.head())\n",
    "print(len(final_csv7))"
   ]
  },
  {
   "cell_type": "code",
   "execution_count": 11,
   "id": "03a618eb-5078-47cc-ac0b-b3082b8c5919",
   "metadata": {},
   "outputs": [
    {
     "name": "stdout",
     "output_type": "stream",
     "text": [
      "   cms_frailty_ind  cms_tot_ma_payment_amt  cms_tot_partd_payment_amt  \\\n",
      "0              0.0                 1112.32                     104.75   \n",
      "1              0.0                 1530.06                     405.91   \n",
      "2              0.0                  828.17                     153.53   \n",
      "3              0.0                  731.59                     139.89   \n",
      "4              0.0                 1205.57                     143.27   \n",
      "\n",
      "   cci_score  fci_score  dcsi_score       id  \n",
      "0        4.0        6.0         0.0   753020  \n",
      "1        4.0        5.0         2.0   552444  \n",
      "2        5.0        3.0         2.0   404717  \n",
      "3        4.0        3.0         2.0  1669960  \n",
      "4        3.0        6.0         0.0   357050  \n",
      "        id  riskarr_downside  riskarr_upside  riskarr_rewards  riskarr_global  \\\n",
      "0  1387512               0.0             0.0              0.0             0.0   \n",
      "1   787578               1.0             0.0              0.0             0.0   \n",
      "2  1362865               0.0             0.0              0.0             0.0   \n",
      "3  1400934               0.0             0.0              1.0             0.0   \n",
      "4   274872               0.0             1.0              0.0             0.0   \n",
      "\n",
      "   days_since_last_login  login_pmpm_ct  rx_overall_net_paid_pmpm_cost  \\\n",
      "0                  480.0       0.000000                       1.088889   \n",
      "1                  480.0       0.000000                     335.002500   \n",
      "2                  480.0       0.000000                       0.000000   \n",
      "3                   11.0       2.083333                      89.478330   \n",
      "4                  480.0       0.000000                       0.641667   \n",
      "\n",
      "   total_mbr_resp_pmpm_cost  cnt_cp_emails_pmpm_ct  cnt_cp_print_pmpm_ct  \\\n",
      "0                 47.777778               2.333333              1.555556   \n",
      "1                 44.702500               0.000000              1.416667   \n",
      "2                  2.916667               0.000000              1.083333   \n",
      "3                 17.205833               3.250000              0.416667   \n",
      "4                 15.806667               0.000000              0.833333   \n",
      "\n",
      "   cnt_cp_vat_pmpm_ct  cnt_cp_webstatement_pmpm_ct  cms_frailty_ind  \\\n",
      "0            1.444444                     4.333334              0.0   \n",
      "1            0.500000                     2.750000              0.0   \n",
      "2            0.250000                     1.666667              0.0   \n",
      "3            4.500000                     1.333333              0.0   \n",
      "4            0.416667                     1.416667              0.0   \n",
      "\n",
      "   cms_tot_ma_payment_amt  cms_tot_partd_payment_amt  cci_score  fci_score  \\\n",
      "0                  486.28                     132.55        2.0        1.0   \n",
      "1                  413.89                     150.21        7.0        7.0   \n",
      "2                  384.60                     125.92        3.0        1.0   \n",
      "3                  516.18                     474.89        3.0        3.0   \n",
      "4                  484.26                      52.09        6.0        2.0   \n",
      "\n",
      "   dcsi_score  \n",
      "0         0.0  \n",
      "1         4.0  \n",
      "2         0.0  \n",
      "3         0.0  \n",
      "4         1.0  \n",
      "381858\n"
     ]
    }
   ],
   "source": [
    "import pandas as pd\n",
    "\n",
    "# Specify the columns you want to read\n",
    "columns_to_read = ['atlas_grocpth14', 'atlas_povertyallagespct', 'atlas_recfacpth14', 'atlas_ffrpth14', 'atlas_fsrpth14', 'cms_tot_ma_payment_amt', \n",
    "                   'cms_tot_partd_payment_amt', 'cci_score', 'dcsi_score','fci_score','cms_frailty_ind','id']  # Replace with actual column names\n",
    "\n",
    "# Read only the specified columns\n",
    "df_additional_features = pd.read_csv('Additional Features_Holdout.csv', usecols=columns_to_read)\n",
    "\n",
    "# Display the DataFrame\n",
    "print(df_additional_features.head())\n",
    "\n",
    "final_csv9 = pd.merge(final_csv7, df_additional_features, on='id', how='inner')\n",
    "print(final_csv9.head())\n",
    "print(len(final_csv9))"
   ]
  },
  {
   "cell_type": "code",
   "execution_count": 12,
   "id": "2a608cc1-3fb1-4a9c-abd8-7124204111eb",
   "metadata": {},
   "outputs": [
    {
     "name": "stdout",
     "output_type": "stream",
     "text": [
      "  sex_cd  age veteran_ind state_of_residence county_of_residence   race  \\\n",
      "0      M   76           Y                 MI             GRATIOT    NaN   \n",
      "1      F   69           N                 KY              OLDHAM    NaN   \n",
      "2      M   46           N                 MI            MUSKEGON    NaN   \n",
      "3      M   84           N                 WA             SPOKANE    NaN   \n",
      "4      M   67           N                 FL             BROWARD  ASIAN   \n",
      "\n",
      "        id  \n",
      "0   387923  \n",
      "1   969948  \n",
      "2   271811  \n",
      "3   876229  \n",
      "4  1601815  \n",
      "        id  riskarr_downside  riskarr_upside  riskarr_rewards  riskarr_global  \\\n",
      "0  1387512               0.0             0.0              0.0             0.0   \n",
      "1   787578               1.0             0.0              0.0             0.0   \n",
      "2  1362865               0.0             0.0              0.0             0.0   \n",
      "3  1400934               0.0             0.0              1.0             0.0   \n",
      "4   274872               0.0             1.0              0.0             0.0   \n",
      "\n",
      "   days_since_last_login  login_pmpm_ct  rx_overall_net_paid_pmpm_cost  \\\n",
      "0                  480.0       0.000000                       1.088889   \n",
      "1                  480.0       0.000000                     335.002500   \n",
      "2                  480.0       0.000000                       0.000000   \n",
      "3                   11.0       2.083333                      89.478330   \n",
      "4                  480.0       0.000000                       0.641667   \n",
      "\n",
      "   total_mbr_resp_pmpm_cost  cnt_cp_emails_pmpm_ct  ...  \\\n",
      "0                 47.777778               2.333333  ...   \n",
      "1                 44.702500               0.000000  ...   \n",
      "2                  2.916667               0.000000  ...   \n",
      "3                 17.205833               3.250000  ...   \n",
      "4                 15.806667               0.000000  ...   \n",
      "\n",
      "   cms_tot_partd_payment_amt  cci_score  fci_score  dcsi_score  sex_cd  age  \\\n",
      "0                     132.55        2.0        1.0         0.0       F   66   \n",
      "1                     150.21        7.0        7.0         4.0       F   74   \n",
      "2                     125.92        3.0        1.0         0.0       M   72   \n",
      "3                     474.89        3.0        3.0         0.0       F   78   \n",
      "4                      52.09        6.0        2.0         1.0       M   79   \n",
      "\n",
      "   veteran_ind  state_of_residence  county_of_residence   race  \n",
      "0            N                  PA             DELAWARE  BLACK  \n",
      "1            N                  OK                LOGAN    NaN  \n",
      "2            N                  PA              CHESTER    NaN  \n",
      "3            N                  GA                 HALL    NaN  \n",
      "4            N                  NC          MECKLENBURG  BLACK  \n",
      "\n",
      "[5 rows x 25 columns]\n"
     ]
    }
   ],
   "source": [
    "import pandas as pd\n",
    "\n",
    "# Specify the columns you want to read\n",
    "columns_to_read = ['sex_cd', 'age','veteran_ind', 'id','state_of_residence', 'county_of_residence', 'race']  # Replace with actual column names\n",
    "\n",
    "# Read only the specified columns\n",
    "df_member_details = pd.read_csv('humana_mays_target_member_details_Holdout.csv', usecols=columns_to_read)\n",
    "\n",
    "# Display the DataFrame\n",
    "print(df_member_details.head())\n",
    "\n",
    "final_csv11 = pd.merge(final_csv9, df_member_details, on='id', how='inner')\n",
    "print(final_csv11.head())"
   ]
  },
  {
   "cell_type": "code",
   "execution_count": 13,
   "id": "5a054d8a-7855-4f0f-98e8-60cf3e621213",
   "metadata": {},
   "outputs": [
    {
     "name": "stdout",
     "output_type": "stream",
     "text": [
      "381858\n"
     ]
    }
   ],
   "source": [
    "print(len(final_csv11))"
   ]
  },
  {
   "cell_type": "code",
   "execution_count": 14,
   "id": "329067da-dfff-40e9-86e5-6522e4d19dd5",
   "metadata": {},
   "outputs": [
    {
     "name": "stdout",
     "output_type": "stream",
     "text": [
      "  dual_eligible_ind disabled_ind lis_ind       id\n",
      "0                 N            N       N   499343\n",
      "1                 N            N       N  1081163\n",
      "2                 N            N       N   922695\n",
      "3                 N            N       N  1563864\n",
      "4                 N            Y       N   114577\n",
      "        id  riskarr_downside  riskarr_upside  riskarr_rewards  riskarr_global  \\\n",
      "0  1387512               0.0             0.0              0.0             0.0   \n",
      "1   787578               1.0             0.0              0.0             0.0   \n",
      "2  1362865               0.0             0.0              0.0             0.0   \n",
      "3  1400934               0.0             0.0              1.0             0.0   \n",
      "4   274872               0.0             1.0              0.0             0.0   \n",
      "\n",
      "   days_since_last_login  login_pmpm_ct  rx_overall_net_paid_pmpm_cost  \\\n",
      "0                  480.0       0.000000                       1.088889   \n",
      "1                  480.0       0.000000                     335.002500   \n",
      "2                  480.0       0.000000                       0.000000   \n",
      "3                   11.0       2.083333                      89.478330   \n",
      "4                  480.0       0.000000                       0.641667   \n",
      "\n",
      "   total_mbr_resp_pmpm_cost  cnt_cp_emails_pmpm_ct  ...  dcsi_score  sex_cd  \\\n",
      "0                 47.777778               2.333333  ...         0.0       F   \n",
      "1                 44.702500               0.000000  ...         4.0       F   \n",
      "2                  2.916667               0.000000  ...         0.0       M   \n",
      "3                 17.205833               3.250000  ...         0.0       F   \n",
      "4                 15.806667               0.000000  ...         1.0       M   \n",
      "\n",
      "   age  veteran_ind  state_of_residence  county_of_residence   race  \\\n",
      "0   66            N                  PA             DELAWARE  BLACK   \n",
      "1   74            N                  OK                LOGAN    NaN   \n",
      "2   72            N                  PA              CHESTER    NaN   \n",
      "3   78            N                  GA                 HALL    NaN   \n",
      "4   79            N                  NC          MECKLENBURG  BLACK   \n",
      "\n",
      "   dual_eligible_ind  disabled_ind lis_ind  \n",
      "0                  N             N       N  \n",
      "1                  N             N       N  \n",
      "2                  N             N       N  \n",
      "3                  Y             N       Y  \n",
      "4                  N             N       N  \n",
      "\n",
      "[5 rows x 28 columns]\n",
      "381858\n"
     ]
    }
   ],
   "source": [
    "import pandas as pd\n",
    "\n",
    "# Specify the columns you want to read\n",
    "columns_to_read = ['consec_tenure_month', 'all_mm_tenure', 'tenure_band', 'dual_eligible_ind', 'disabled_ind', 'lis_ind', 'id']  # Replace with actual column names\n",
    "\n",
    "# Read only the specified columns\n",
    "df_member_data = pd.read_csv('MEMBER_DATA_Holdout.csv', usecols=columns_to_read)\n",
    "\n",
    "# Display the DataFrame\n",
    "print(df_member_data.head())\n",
    "\n",
    "final_csv12 = pd.merge(final_csv11, df_member_data, on='id', how='inner')\n",
    "print(final_csv12.head())\n",
    "print(len(final_csv12))"
   ]
  },
  {
   "cell_type": "code",
   "execution_count": 15,
   "id": "f96f7d7d-5047-4ab3-b652-7f63a2967381",
   "metadata": {},
   "outputs": [
    {
     "name": "stderr",
     "output_type": "stream",
     "text": [
      "C:\\Users\\manas\\AppData\\Local\\Temp\\ipykernel_25884\\3714632488.py:4: DtypeWarning: Columns (5,9) have mixed types. Specify dtype option on import or set low_memory=False.\n",
      "  df_claims = pd.read_csv('humana_mays_target_member_visit_claims_Holdout.csv')\n"
     ]
    },
    {
     "name": "stdout",
     "output_type": "stream",
     "text": [
      "   dos_year  clm_unique_key  serv_date_skey pcp_visit annual_wellness  \\\n",
      "0      2021     90000241653        20210209       NaN             NaN   \n",
      "1      2021     90000351047        20210202       NaN             NaN   \n",
      "2      2021     90000644469        20210303       NaN             NaN   \n",
      "3      2021     90000795280        20210223       NaN             NaN   \n",
      "4      2021     90000894483        20210312       NaN             NaN   \n",
      "\n",
      "  humana_paf preventative_visit comp_physical_exam  ihwa fqhc_visit  ...  \\\n",
      "0        NaN                NaN                NaN   NaN        NaN  ...   \n",
      "1        NaN                NaN                NaN   NaN        NaN  ...   \n",
      "2        NaN                NaN                NaN   NaN        NaN  ...   \n",
      "3        NaN                NaN                NaN   NaN        NaN  ...   \n",
      "4        NaN                NaN                NaN   NaN        NaN  ...   \n",
      "\n",
      "  physical_therapist_visit cardiologist_visit gastroenterologist_visit  \\\n",
      "0                      NaN                NaN                      NaN   \n",
      "1                      NaN                NaN                      NaN   \n",
      "2                      NaN                  Y                      NaN   \n",
      "3                      NaN                NaN                      NaN   \n",
      "4                      NaN                  Y                      NaN   \n",
      "\n",
      "  orthopedist_visit obgyn_visit nephroloogist_visit pulmonologist_visit  \\\n",
      "0               NaN         NaN                 NaN                 NaN   \n",
      "1                 Y         NaN                 NaN                 NaN   \n",
      "2               NaN         NaN                 NaN                 NaN   \n",
      "3               NaN         NaN                 NaN                 NaN   \n",
      "4               NaN         NaN                 NaN                 NaN   \n",
      "\n",
      "  urgent_care_visit er_visit       id  \n",
      "0               NaN      NaN   685192  \n",
      "1               NaN      NaN   861306  \n",
      "2               NaN      NaN  1572257  \n",
      "3               NaN      NaN   627907  \n",
      "4               NaN      NaN   109918  \n",
      "\n",
      "[5 rows x 27 columns]\n",
      "4855950\n"
     ]
    }
   ],
   "source": [
    "import pandas as pd\n",
    "\n",
    "# Load the two CSV files\n",
    "df_claims = pd.read_csv('humana_mays_target_member_visit_claims_Holdout.csv')\n",
    "df_exclude = pd.read_excel('ID_drop.xlsx')\n",
    "\n",
    "# Extract the IDs from exclude.csv\n",
    "exclude_ids = df_exclude['id'].tolist()\n",
    "\n",
    "# Filter rows from df_data where the ID is not in exclude_ids\n",
    "df_filtered_claims = df_claims[~df_claims['id'].isin(exclude_ids)]\n",
    "\n",
    "print(df_filtered_claims.head())\n",
    "print(len(df_filtered_claims))"
   ]
  },
  {
   "cell_type": "code",
   "execution_count": 16,
   "id": "1361be7f-ca31-4a8e-8446-707ec336971e",
   "metadata": {},
   "outputs": [
    {
     "data": {
      "text/plain": [
       "332273"
      ]
     },
     "execution_count": 16,
     "metadata": {},
     "output_type": "execute_result"
    }
   ],
   "source": [
    "import pandas as pd\n",
    "\n",
    "# Assuming df is your DataFrame and 'column_name' is the column where you want to drop duplicates\n",
    "df_count = df_filtered_claims.drop_duplicates(subset='id')\n",
    "len(df_count)"
   ]
  },
  {
   "cell_type": "code",
   "execution_count": 17,
   "id": "94f90b38-ddeb-4063-8c95-ca224622b94b",
   "metadata": {},
   "outputs": [
    {
     "name": "stderr",
     "output_type": "stream",
     "text": [
      "C:\\Users\\manas\\AppData\\Local\\Temp\\ipykernel_25884\\3801779197.py:13: FutureWarning: DataFrame.applymap has been deprecated. Use DataFrame.map instead.\n",
      "  df_claims_mod1[visit_columns] = df_claims_mod1[visit_columns].applymap(lambda x: 1 if x == 'Y' else 0 if pd.isna(x) else x)\n"
     ]
    }
   ],
   "source": [
    "import numpy as np\n",
    "\n",
    "drop_columns = ['dos_year', 'clm_unique_key', 'serv_date_skey']\n",
    "df_claims_mod1 = df_filtered_claims.drop(columns=drop_columns)\n",
    "\n",
    "# List of columns to convert and aggregate\n",
    "visit_columns = [\n",
    "    'pcp_visit', 'preventative_visit', 'fqhc_visit', 'physical_therapist_visit', \n",
    "    'cardiologist_visit', 'gastroenterologist_visit', 'orthopedist_visit', \n",
    "    'obgyn_visit', 'nephroloogist_visit', 'pulmonologist_visit', \n",
    "    'urgent_care_visit', 'er_visit'\n",
    "]\n",
    "\n",
    "# Replace 'Y' with 1 and NaN with 0 in all visit-related columns\n",
    "df_claims_mod1[visit_columns] = df_claims_mod1[visit_columns].replace({'Y': 1, np.nan: 0})\n",
    "\n",
    "# Replace 'Y' with 1 and NaN with 0 for 'comp_physical_exam' and 'telehealth'\n",
    "df_claims_mod1['comp_physical_exam'] = df_claims_mod1['comp_physical_exam'].replace({'Y': 1, np.nan: 0})\n",
    "df_claims_mod1['telehealth'] = df_claims_mod1['telehealth'].replace({'Y': 1, np.nan: 0})\n",
    "\n",
    "# Now group by 'id' and apply the sum function to count the occurrences of 'Y' (now 1s)\n",
    "df_claims_mod2 = df_claims_mod1.groupby('id', as_index=False).agg({\n",
    "    'pcp_visit': 'sum',\n",
    "    'preventative_visit': 'sum',\n",
    "    'fqhc_visit': 'sum',\n",
    "    'physical_therapist_visit': 'sum',\n",
    "    'cardiologist_visit': 'sum',\n",
    "    'gastroenterologist_visit': 'sum',\n",
    "    'orthopedist_visit': 'sum',\n",
    "    'obgyn_visit': 'sum',\n",
    "    'nephroloogist_visit': 'sum',\n",
    "    'pulmonologist_visit': 'sum',\n",
    "    'urgent_care_visit': 'sum',\n",
    "    'er_visit': 'sum',\n",
    "    'comp_physical_exam': 'sum',\n",
    "    'telehealth': 'sum'\n",
    "})"
   ]
  },
  {
   "cell_type": "code",
   "execution_count": 18,
   "id": "b749145f-4f31-40e1-ace0-30156eef91b7",
   "metadata": {},
   "outputs": [
    {
     "name": "stdout",
     "output_type": "stream",
     "text": [
      "             id  pcp_visit  any_visit\n",
      "0             5        0.0        1.0\n",
      "1             9        0.0        0.0\n",
      "2            11        0.0        1.0\n",
      "3            14        0.0        1.0\n",
      "4            22        0.0        0.0\n",
      "...         ...        ...        ...\n",
      "332268  1999970        0.0        1.0\n",
      "332269  1999972        0.0        1.0\n",
      "332270  1999976        0.0        1.0\n",
      "332271  1999993        0.0        1.0\n",
      "332272  1999999        0.0        1.0\n",
      "\n",
      "[332273 rows x 3 columns]\n"
     ]
    }
   ],
   "source": [
    "visit_columns = ['pcp_visit', 'preventative_visit', 'fqhc_visit', \n",
    "                 'physical_therapist_visit', 'cardiologist_visit', \n",
    "                 'gastroenterologist_visit', 'orthopedist_visit', \n",
    "                 'obgyn_visit', 'nephroloogist_visit', \n",
    "                 'pulmonologist_visit', 'urgent_care_visit', 'er_visit']\n",
    "\n",
    "# Calculate the total sum for each row\n",
    "df_claims_mod2['visit_sum'] = df_claims_mod2[visit_columns].sum(axis=1)\n",
    "\n",
    "# Calculate the proportion for 'pcp_visit' (divide by the row's total sum)\n",
    "df_claims_mod2['pcp_visit'] = df_claims_mod2.apply(\n",
    "    lambda row: row['pcp_visit'] / row['visit_sum'] if row['visit_sum'] != 0 else 0, axis=1\n",
    ")\n",
    "\n",
    "# Calculate the proportion for 'any_visit' (sum of all other visit columns except 'pcp_visit')\n",
    "df_claims_mod2['any_visit'] = df_claims_mod2.apply(\n",
    "    lambda row: (row['visit_sum'] - row['pcp_visit'] * row['visit_sum']) / row['visit_sum'] if row['visit_sum'] != 0 else 0, axis=1\n",
    ")\n",
    "\n",
    "# Drop the 'visit_sum' column as it's no longer needed\n",
    "df_claims_mod2.drop(columns=['visit_sum'], inplace=True)\n",
    "\n",
    "# Select only the columns 'id', 'pcp_visit', and 'any_visit'\n",
    "df_claims_mod2 = df_claims_mod2[['id', 'telehealth', 'comp_physical_exam', 'pcp_visit', 'any_visit']]\n",
    "\n",
    "# Display the updated DataFrame with the proportions\n",
    "print(df_claims_mod2)"
   ]
  },
  {
   "cell_type": "code",
   "execution_count": 19,
   "id": "c865876b-8d04-4474-b469-181405319400",
   "metadata": {},
   "outputs": [
    {
     "name": "stdout",
     "output_type": "stream",
     "text": [
      "        id  riskarr_downside  riskarr_upside  riskarr_rewards  riskarr_global  \\\n",
      "0  1387512               0.0             0.0              0.0             0.0   \n",
      "1   787578               1.0             0.0              0.0             0.0   \n",
      "2  1362865               0.0             0.0              0.0             0.0   \n",
      "3  1400934               0.0             0.0              1.0             0.0   \n",
      "4   274872               0.0             1.0              0.0             0.0   \n",
      "\n",
      "   days_since_last_login  login_pmpm_ct  rx_overall_net_paid_pmpm_cost  \\\n",
      "0                  480.0       0.000000                       1.088889   \n",
      "1                  480.0       0.000000                     335.002500   \n",
      "2                  480.0       0.000000                       0.000000   \n",
      "3                   11.0       2.083333                      89.478330   \n",
      "4                  480.0       0.000000                       0.641667   \n",
      "\n",
      "   total_mbr_resp_pmpm_cost  cnt_cp_emails_pmpm_ct  ...  age  veteran_ind  \\\n",
      "0                 47.777778               2.333333  ...   66            N   \n",
      "1                 44.702500               0.000000  ...   74            N   \n",
      "2                  2.916667               0.000000  ...   72            N   \n",
      "3                 17.205833               3.250000  ...   78            N   \n",
      "4                 15.806667               0.000000  ...   79            N   \n",
      "\n",
      "   state_of_residence  county_of_residence   race  dual_eligible_ind  \\\n",
      "0                  PA             DELAWARE  BLACK                  N   \n",
      "1                  OK                LOGAN    NaN                  N   \n",
      "2                  PA              CHESTER    NaN                  N   \n",
      "3                  GA                 HALL    NaN                  Y   \n",
      "4                  NC          MECKLENBURG  BLACK                  N   \n",
      "\n",
      "   disabled_ind  lis_ind  pcp_visit any_visit  \n",
      "0             N        N        0.0       1.0  \n",
      "1             N        N        0.0       1.0  \n",
      "2             N        N        0.0       1.0  \n",
      "3             N        Y        0.0       1.0  \n",
      "4             N        N        0.0       1.0  \n",
      "\n",
      "[5 rows x 30 columns]\n"
     ]
    }
   ],
   "source": [
    "final_csv13 = pd.merge(final_csv12, df_claims_mod2[['comp_physical_exam', 'telehealth', 'pcp_visit', 'any_visit','id']], on='id', how='left')\n",
    "print(final_csv13.head())"
   ]
  },
  {
   "cell_type": "code",
   "execution_count": 20,
   "id": "d82352bc-0c11-4602-b79d-7fe3b940bc6f",
   "metadata": {},
   "outputs": [
    {
     "data": {
      "text/plain": [
       "381858"
      ]
     },
     "execution_count": 20,
     "metadata": {},
     "output_type": "execute_result"
    }
   ],
   "source": [
    "# Specify the new file path\n",
    "file_path = 'output_file_Holdout.csv'\n",
    "\n",
    "# Export the DataFrame to CSV\n",
    "final_csv13.to_csv(file_path, index=False)\n",
    "len(final_csv13)"
   ]
  },
  {
   "cell_type": "code",
   "execution_count": 21,
   "id": "42148547-3b3c-4111-a004-3d3319295edd",
   "metadata": {},
   "outputs": [],
   "source": [
    "# Specify the columns to check for outliers\n",
    "columns_to_check = ['pcp_visit', 'any_visit', 'riskarr_downside', 'riskarr_upside', 'days_since_last_login', \n",
    "                    'login_pmpm_ct', 'rx_overall_net_paid_pmpm_cost', 'rx_overall_dist_gpi6_pmpm_ct',\n",
    "\t\t\t\t\t'rx_tier_1_pmpm_ct','rx_tier_2_pmpm_ct','total_allowed_pmpm_cost','total_net_paid_pmpm_cost','total_cob_paid_pmpm_cost',\n",
    "                    'total_coins_pmpm_cost','total_copay_pmpm_cost','total_deduct_pmpm_cost','total_mbr_resp_pmpm_cost','total_ip_acute_admit_days_pmpm',\n",
    "                    'total_ip_ltach_admit_days_pmpm','total_ip_maternity_admit_days_pmpm','total_ip_mhsa_admit_days_pmpm','total_ip_rehab_admit_days_pmpm',    \n",
    "                    'total_ip_snf_admit_days_pmpm','atlas_recfacpth14','atlas_ffrpth14','atlas_fsrpth14','atlas_grocpth14','atlas_povertyallagespct',\n",
    "                    'cnt_cp_emails_pmpm_ct','cnt_cp_print_pmpm_ct', 'cnt_cp_vat_pmpm_ct','cnt_cp_webstatement_pmpm_ct', 'cms_frailty_ind', \n",
    "                    'cci_score', 'fci_score', 'dcsi_score','cms_tot_ma_payment_amt','cms_tot_partd_payment_amt','comp_physical_exam', 'telehealth']\n",
    "\n",
    "for column in columns_to_check:\n",
    "    # Replace with median\n",
    "    final_csv13[column].fillna(final_csv13[column].median(), inplace=True)"
   ]
  },
  {
   "cell_type": "code",
   "execution_count": 22,
   "id": "5efb8e1a-ada0-451a-9ccf-07fe6234fa35",
   "metadata": {},
   "outputs": [
    {
     "name": "stdout",
     "output_type": "stream",
     "text": [
      "      rwjf_poor_phy_hlth_days  rwjf_population  rwjf_social_associate_rate  \\\n",
      "0                    6.063194          25758.0                    5.748888   \n",
      "1                    5.930554          24549.0                   11.361792   \n",
      "2                    4.900981          92987.0                    9.635371   \n",
      "3                    4.466979         553284.0                    7.396747   \n",
      "4                    5.255659          17666.0                    6.264237   \n",
      "...                       ...              ...                         ...   \n",
      "996                  6.047972           7517.0                    0.000000   \n",
      "997                  4.168587          88723.0                    6.668506   \n",
      "998                  5.479267          64979.0                    9.594108   \n",
      "999                  4.897714         405813.0                    9.240782   \n",
      "1000                 4.444158          62680.0                   15.582580   \n",
      "\n",
      "      rwjf_broadband_access  rwjf_healthcare_cost       id  \n",
      "0                  0.735347              13097.38   753020  \n",
      "1                  0.685470              10177.70   552444  \n",
      "2                  0.807368               9751.11   404717  \n",
      "3                  0.801603              10413.55  1669960  \n",
      "4                  0.770355              10246.81   357050  \n",
      "...                     ...                   ...      ...  \n",
      "996                0.657551              10400.58  1228991  \n",
      "997                0.804036              11055.83   840021  \n",
      "998                0.715426              10239.27   685161  \n",
      "999                0.772016              11817.97  1125518  \n",
      "1000               0.741039               9591.57   574054  \n",
      "\n",
      "[1000 rows x 6 columns]\n",
      "381858\n"
     ]
    }
   ],
   "source": [
    "import pandas as pd\n",
    "\n",
    "# Load the two CSV files\n",
    "sdh = pd.read_csv('Social Determinants of Health_Holdout.csv')\n",
    "df_exclude = pd.read_excel('ID_drop.xlsx')\n",
    "\n",
    "# Extract the IDs from exclude.csv\n",
    "exclude_ids = df_exclude['id'].tolist()\n",
    "\n",
    "# Filter rows from df_data where the ID is not in exclude_ids\n",
    "filtered_sdh = sdh[~sdh['id'].isin(exclude_ids)]\n",
    "\n",
    "columns_to_drop = ['rwjf_uninsured_adults_pct','rwjf_uninsured_child_pct',\n",
    "                   'rwjf_diabetes_monitor_pct','rwjf_flu_vax','rwjf_mammography_pct','rwjf_uninsured_pct','rwjf_drug_overdose_deaths_rate',\n",
    "                   'rwjf_drug_deaths_modl_rate',\n",
    "                   'rwjf_insufficient_sleep_pct','rwjf_limit_hlthy_food_pct','rwjf_mv_deaths_rate','rwjf_teen_births_rate','rwjf_std_infect_rate',\n",
    "                   'rwjf_inactivity_pct','rwjf_alcoholic_pct','rwjf_adult_obesity_pct','rwjf_adult_smoking_pct','rwjf_dui_deaths_pct',\n",
    "                   'rwjf_exercise_access_pct','rwjf_mental_distress_pct','rwjf_physical_distress_pct','rwjf_premature_death_rate','rwjf_poor_men_hlth_days',\n",
    "                   'rwjf_life_expectancy','rwjf_child_mortality','rwjf_infant_mortality',\n",
    "                   'rwjf_poor_health_pct','rwjf_low_birthweight_pct','rwjf_premature_mortality','rwjf_long_commute_alone_pct','rwjf_air_pollute_density',\n",
    "                   'rwjf_drinkwater_violate_ind','rwjf_housing_cost_burden_pct','rwjf_severe_housing_pct','rwjf_broadband_access','rwjf_home_ownership_pct',\n",
    "                   'rwjf_drive_alone_pct','rwjf_disconnect_youth_pct','rwjf_child_free_lunch_pct','rwjf_firearm_fatalities_rate','rwjf_homicides_rate',\n",
    "                   'rwjf_injury_deaths_rate','rwjf_social_associate_rate','rwjf_violent_crime_rate','rwjf_some_college_pct',\n",
    "                   'rwjf_single_parent_pct','rwjf_child_poverty_pct','rwjf_high_school_pct','rwjf_unemploy_pct','rwjf_suicides_rate'] \n",
    "\n",
    "final_sdh = filtered_sdh.drop(columns=columns_to_drop)\n",
    "print(final_sdh.head(1000))\n",
    "print(len(final_sdh))"
   ]
  },
  {
   "cell_type": "code",
   "execution_count": 23,
   "id": "1aee4276-e340-4783-9ab6-b8b279bcb327",
   "metadata": {},
   "outputs": [
    {
     "name": "stdout",
     "output_type": "stream",
     "text": [
      "          id  riskarr_downside  riskarr_upside  riskarr_rewards  \\\n",
      "0    1387512               0.0             0.0              0.0   \n",
      "1     787578               1.0             0.0              0.0   \n",
      "2    1362865               0.0             0.0              0.0   \n",
      "3    1400934               0.0             0.0              1.0   \n",
      "4     274872               0.0             1.0              0.0   \n",
      "..       ...               ...             ...              ...   \n",
      "995   635813               0.0             0.0              0.0   \n",
      "996   311017               0.0             1.0              0.0   \n",
      "997  1181141               0.0             1.0              0.0   \n",
      "998   505872               0.0             0.0              0.0   \n",
      "999  1740543               0.0             1.0              0.0   \n",
      "\n",
      "     riskarr_global  days_since_last_login  login_pmpm_ct  \\\n",
      "0               0.0                  480.0       0.000000   \n",
      "1               0.0                  480.0       0.000000   \n",
      "2               0.0                  480.0       0.000000   \n",
      "3               0.0                   11.0       2.083333   \n",
      "4               0.0                  480.0       0.000000   \n",
      "..              ...                    ...            ...   \n",
      "995             0.0                  480.0       0.000000   \n",
      "996             0.0                  480.0       0.000000   \n",
      "997             0.0                   30.0       0.250000   \n",
      "998             0.0                  480.0       0.000000   \n",
      "999             0.0                   30.0       0.166667   \n",
      "\n",
      "     rx_overall_net_paid_pmpm_cost  total_mbr_resp_pmpm_cost  \\\n",
      "0                         1.088889                 47.777778   \n",
      "1                       335.002500                 44.702500   \n",
      "2                         0.000000                  2.916667   \n",
      "3                        89.478330                 17.205833   \n",
      "4                         0.641667                 15.806667   \n",
      "..                             ...                       ...   \n",
      "995                      45.198334                 22.847500   \n",
      "996                      14.540000                  6.000000   \n",
      "997                       0.000000                  0.000000   \n",
      "998                      83.759160                177.032500   \n",
      "999                      10.993333                  2.500000   \n",
      "\n",
      "     cnt_cp_emails_pmpm_ct  ...  dual_eligible_ind  disabled_ind  lis_ind  \\\n",
      "0                 2.333333  ...                  N             N        N   \n",
      "1                 0.000000  ...                  N             N        N   \n",
      "2                 0.000000  ...                  N             N        N   \n",
      "3                 3.250000  ...                  Y             N        Y   \n",
      "4                 0.000000  ...                  N             N        N   \n",
      "..                     ...  ...                ...           ...      ...   \n",
      "995               0.000000  ...                  Y             Y        Y   \n",
      "996               0.000000  ...                  N             N        N   \n",
      "997               0.333333  ...                  N             Y        Y   \n",
      "998               0.000000  ...                  Y             Y        Y   \n",
      "999               1.250000  ...                  N             N        N   \n",
      "\n",
      "     pcp_visit  any_visit  rwjf_poor_phy_hlth_days  rwjf_population  \\\n",
      "0          0.0        1.0                 3.707143         566747.0   \n",
      "1          0.0        1.0                 4.502238          48011.0   \n",
      "2          0.0        1.0                 3.058861         524989.0   \n",
      "3          0.0        1.0                 4.130957         204441.0   \n",
      "4          0.0        1.0                 3.094275        1110356.0   \n",
      "..         ...        ...                      ...              ...   \n",
      "995        0.0        1.0                 5.013757           9328.0   \n",
      "996        0.0        1.0                 3.892031          62317.0   \n",
      "997        0.0        0.0                 3.105922        1265843.0   \n",
      "998        0.0        1.0                 4.006652         165697.0   \n",
      "999        0.0        1.0                 4.861948         110593.0   \n",
      "\n",
      "     rwjf_social_associate_rate  rwjf_broadband_access rwjf_healthcare_cost  \n",
      "0                      8.127476               0.861028             10615.96  \n",
      "1                      9.092639               0.802347             10879.86  \n",
      "2                      9.711788               0.888177              9987.08  \n",
      "3                      7.717118               0.858264              9567.24  \n",
      "4                      9.479835               0.881512              9026.38  \n",
      "..                          ...                    ...                  ...  \n",
      "995                   11.872639               0.723495              9620.11  \n",
      "996                   15.329751               0.715267              9102.39  \n",
      "997                   11.068517               0.871807              8147.72  \n",
      "998                    8.668463               0.842017              8107.90  \n",
      "999                    8.624882               0.825801              8187.20  \n",
      "\n",
      "[1000 rows x 35 columns]\n",
      "381858\n"
     ]
    }
   ],
   "source": [
    "# Replace NaN values with the median for each column\n",
    "for column in final_sdh.columns:\n",
    "    # Replace NaN with the median value of the column\n",
    "    final_sdh[column].fillna(final_sdh[column].median(), inplace=True)\n",
    "\n",
    "final_csv13_sdh = pd.merge(final_csv13, final_sdh, on='id', how='left')\n",
    "print(final_csv13_sdh.head(1000))\n",
    "print(len(final_csv13_sdh))"
   ]
  },
  {
   "cell_type": "code",
   "execution_count": 26,
   "id": "b7f714c6-e281-43ea-bf82-a28ae6c0eb93",
   "metadata": {},
   "outputs": [
    {
     "name": "stdout",
     "output_type": "stream",
     "text": [
      "id                                    0\n",
      "riskarr_downside                      0\n",
      "riskarr_upside                        0\n",
      "riskarr_rewards                       0\n",
      "riskarr_global                        0\n",
      "days_since_last_login                 0\n",
      "login_pmpm_ct                         0\n",
      "rx_overall_net_paid_pmpm_cost         0\n",
      "total_mbr_resp_pmpm_cost              0\n",
      "cnt_cp_emails_pmpm_ct                 0\n",
      "cnt_cp_print_pmpm_ct                  0\n",
      "cnt_cp_vat_pmpm_ct                    0\n",
      "cnt_cp_webstatement_pmpm_ct           0\n",
      "cms_frailty_ind                       0\n",
      "cms_tot_ma_payment_amt                0\n",
      "cms_tot_partd_payment_amt             0\n",
      "cci_score                             0\n",
      "fci_score                             0\n",
      "dcsi_score                            0\n",
      "sex_cd                                0\n",
      "age                                   0\n",
      "veteran_ind                           0\n",
      "state_of_residence                    0\n",
      "county_of_residence                   5\n",
      "race                             720212\n",
      "dual_eligible_ind                     0\n",
      "disabled_ind                          0\n",
      "lis_ind                               0\n",
      "pcp_visit                             0\n",
      "any_visit                             0\n",
      "rwjf_poor_phy_hlth_days               0\n",
      "rwjf_population                       0\n",
      "rwjf_social_associate_rate            0\n",
      "rwjf_broadband_access                 0\n",
      "rwjf_healthcare_cost                  0\n",
      "hcc_model_type                    93797\n",
      "cms_model_vers_cd                 93797\n",
      "dtype: int64\n"
     ]
    }
   ],
   "source": [
    "# Verify if the NaN values have been replaced\n",
    "print(final_csv13_sdh.isnull().sum())"
   ]
  },
  {
   "cell_type": "code",
   "execution_count": 27,
   "id": "02beed06-aa6c-4514-8cd6-813084e069a4",
   "metadata": {},
   "outputs": [
    {
     "name": "stdout",
     "output_type": "stream",
     "text": [
      "1\n",
      "2\n"
     ]
    },
    {
     "name": "stderr",
     "output_type": "stream",
     "text": [
      "C:\\ProgramData\\anaconda3\\Lib\\site-packages\\sklearn\\base.py:439: UserWarning: X does not have valid feature names, but IsolationForest was fitted with feature names\n",
      "  warnings.warn(\n"
     ]
    },
    {
     "name": "stdout",
     "output_type": "stream",
     "text": [
      "3\n"
     ]
    },
    {
     "ename": "MemoryError",
     "evalue": "Unable to allocate 87.5 MiB for an array with shape (22928469,) and data type int32",
     "output_type": "error",
     "traceback": [
      "\u001b[1;31m---------------------------------------------------------------------------\u001b[0m",
      "\u001b[1;31mMemoryError\u001b[0m                               Traceback (most recent call last)",
      "Cell \u001b[1;32mIn[27], line 23\u001b[0m\n\u001b[0;32m     21\u001b[0m \u001b[38;5;28mprint\u001b[39m(\u001b[38;5;124m'\u001b[39m\u001b[38;5;124m3\u001b[39m\u001b[38;5;124m'\u001b[39m)\n\u001b[0;32m     22\u001b[0m \u001b[38;5;66;03m# add the data to the main  \u001b[39;00m\n\u001b[1;32m---> 23\u001b[0m final_csv13_sdh_mc[\u001b[38;5;124m'\u001b[39m\u001b[38;5;124manomaly\u001b[39m\u001b[38;5;124m'\u001b[39m] \u001b[38;5;241m=\u001b[39m model\u001b[38;5;241m.\u001b[39mpredict(final_csv13_sdh_mc[[\u001b[38;5;124m'\u001b[39m\u001b[38;5;124mpcp_visit\u001b[39m\u001b[38;5;124m'\u001b[39m, \u001b[38;5;124m'\u001b[39m\u001b[38;5;124many_visit\u001b[39m\u001b[38;5;124m'\u001b[39m, \u001b[38;5;124m'\u001b[39m\u001b[38;5;124mriskarr_downside\u001b[39m\u001b[38;5;124m'\u001b[39m, \u001b[38;5;124m'\u001b[39m\u001b[38;5;124mriskarr_upside\u001b[39m\u001b[38;5;124m'\u001b[39m, \u001b[38;5;124m'\u001b[39m\u001b[38;5;124mriskarr_rewards\u001b[39m\u001b[38;5;124m'\u001b[39m, \n\u001b[0;32m     24\u001b[0m                                                             \u001b[38;5;124m'\u001b[39m\u001b[38;5;124mriskarr_global\u001b[39m\u001b[38;5;124m'\u001b[39m, \u001b[38;5;124m'\u001b[39m\u001b[38;5;124mdays_since_last_login\u001b[39m\u001b[38;5;124m'\u001b[39m, \u001b[38;5;124m'\u001b[39m\u001b[38;5;124mlogin_pmpm_ct\u001b[39m\u001b[38;5;124m'\u001b[39m, \u001b[38;5;124m'\u001b[39m\u001b[38;5;124mrx_overall_net_paid_pmpm_cost\u001b[39m\u001b[38;5;124m'\u001b[39m, \n\u001b[0;32m     25\u001b[0m                                                             \u001b[38;5;124m'\u001b[39m\u001b[38;5;124mtotal_mbr_resp_pmpm_cost\u001b[39m\u001b[38;5;124m'\u001b[39m, \u001b[38;5;124m'\u001b[39m\u001b[38;5;124mcnt_cp_emails_pmpm_ct\u001b[39m\u001b[38;5;124m'\u001b[39m, \u001b[38;5;124m'\u001b[39m\u001b[38;5;124mcnt_cp_print_pmpm_ct\u001b[39m\u001b[38;5;124m'\u001b[39m, \n\u001b[0;32m     26\u001b[0m                                                             \u001b[38;5;124m'\u001b[39m\u001b[38;5;124mcnt_cp_vat_pmpm_ct\u001b[39m\u001b[38;5;124m'\u001b[39m, \u001b[38;5;124m'\u001b[39m\u001b[38;5;124mcnt_cp_webstatement_pmpm_ct\u001b[39m\u001b[38;5;124m'\u001b[39m, \u001b[38;5;124m'\u001b[39m\u001b[38;5;124mcms_frailty_ind\u001b[39m\u001b[38;5;124m'\u001b[39m, \u001b[38;5;124m'\u001b[39m\u001b[38;5;124mcci_score\u001b[39m\u001b[38;5;124m'\u001b[39m, \n\u001b[0;32m     27\u001b[0m                                                             \u001b[38;5;124m'\u001b[39m\u001b[38;5;124mfci_score\u001b[39m\u001b[38;5;124m'\u001b[39m, \u001b[38;5;124m'\u001b[39m\u001b[38;5;124mdcsi_score\u001b[39m\u001b[38;5;124m'\u001b[39m, \u001b[38;5;124m'\u001b[39m\u001b[38;5;124mrwjf_poor_phy_hlth_days\u001b[39m\u001b[38;5;124m'\u001b[39m, \u001b[38;5;124m'\u001b[39m\u001b[38;5;124mrwjf_population\u001b[39m\u001b[38;5;124m'\u001b[39m, \n\u001b[0;32m     28\u001b[0m                                                             \u001b[38;5;124m'\u001b[39m\u001b[38;5;124mrwjf_social_associate_rate\u001b[39m\u001b[38;5;124m'\u001b[39m, \u001b[38;5;124m'\u001b[39m\u001b[38;5;124mrwjf_broadband_access\u001b[39m\u001b[38;5;124m'\u001b[39m, \u001b[38;5;124m'\u001b[39m\u001b[38;5;124mrwjf_healthcare_cost\u001b[39m\u001b[38;5;124m'\u001b[39m]])\n\u001b[0;32m     29\u001b[0m \u001b[38;5;28mprint\u001b[39m(\u001b[38;5;124m'\u001b[39m\u001b[38;5;124m4\u001b[39m\u001b[38;5;124m'\u001b[39m)\n\u001b[0;32m     30\u001b[0m \u001b[38;5;28mprint\u001b[39m(np\u001b[38;5;241m.\u001b[39munique(final_csv13_sdh_mc[\u001b[38;5;124m'\u001b[39m\u001b[38;5;124manomaly\u001b[39m\u001b[38;5;124m'\u001b[39m]))\n",
      "File \u001b[1;32mC:\\ProgramData\\anaconda3\\Lib\\site-packages\\sklearn\\ensemble\\_iforest.py:359\u001b[0m, in \u001b[0;36mIsolationForest.predict\u001b[1;34m(self, X)\u001b[0m\n\u001b[0;32m    342\u001b[0m \u001b[38;5;250m\u001b[39m\u001b[38;5;124;03m\"\"\"\u001b[39;00m\n\u001b[0;32m    343\u001b[0m \u001b[38;5;124;03mPredict if a particular sample is an outlier or not.\u001b[39;00m\n\u001b[0;32m    344\u001b[0m \n\u001b[1;32m   (...)\u001b[0m\n\u001b[0;32m    356\u001b[0m \u001b[38;5;124;03m    be considered as an inlier according to the fitted model.\u001b[39;00m\n\u001b[0;32m    357\u001b[0m \u001b[38;5;124;03m\"\"\"\u001b[39;00m\n\u001b[0;32m    358\u001b[0m check_is_fitted(\u001b[38;5;28mself\u001b[39m)\n\u001b[1;32m--> 359\u001b[0m decision_func \u001b[38;5;241m=\u001b[39m \u001b[38;5;28mself\u001b[39m\u001b[38;5;241m.\u001b[39mdecision_function(X)\n\u001b[0;32m    360\u001b[0m is_inlier \u001b[38;5;241m=\u001b[39m np\u001b[38;5;241m.\u001b[39mones_like(decision_func, dtype\u001b[38;5;241m=\u001b[39m\u001b[38;5;28mint\u001b[39m)\n\u001b[0;32m    361\u001b[0m is_inlier[decision_func \u001b[38;5;241m<\u001b[39m \u001b[38;5;241m0\u001b[39m] \u001b[38;5;241m=\u001b[39m \u001b[38;5;241m-\u001b[39m\u001b[38;5;241m1\u001b[39m\n",
      "File \u001b[1;32mC:\\ProgramData\\anaconda3\\Lib\\site-packages\\sklearn\\ensemble\\_iforest.py:394\u001b[0m, in \u001b[0;36mIsolationForest.decision_function\u001b[1;34m(self, X)\u001b[0m\n\u001b[0;32m    365\u001b[0m \u001b[38;5;250m\u001b[39m\u001b[38;5;124;03m\"\"\"\u001b[39;00m\n\u001b[0;32m    366\u001b[0m \u001b[38;5;124;03mAverage anomaly score of X of the base classifiers.\u001b[39;00m\n\u001b[0;32m    367\u001b[0m \n\u001b[1;32m   (...)\u001b[0m\n\u001b[0;32m    389\u001b[0m \u001b[38;5;124;03m    positive scores represent inliers.\u001b[39;00m\n\u001b[0;32m    390\u001b[0m \u001b[38;5;124;03m\"\"\"\u001b[39;00m\n\u001b[0;32m    391\u001b[0m \u001b[38;5;66;03m# We subtract self.offset_ to make 0 be the threshold value for being\u001b[39;00m\n\u001b[0;32m    392\u001b[0m \u001b[38;5;66;03m# an outlier:\u001b[39;00m\n\u001b[1;32m--> 394\u001b[0m \u001b[38;5;28;01mreturn\u001b[39;00m \u001b[38;5;28mself\u001b[39m\u001b[38;5;241m.\u001b[39mscore_samples(X) \u001b[38;5;241m-\u001b[39m \u001b[38;5;28mself\u001b[39m\u001b[38;5;241m.\u001b[39moffset_\n",
      "File \u001b[1;32mC:\\ProgramData\\anaconda3\\Lib\\site-packages\\sklearn\\ensemble\\_iforest.py:429\u001b[0m, in \u001b[0;36mIsolationForest.score_samples\u001b[1;34m(self, X)\u001b[0m\n\u001b[0;32m    425\u001b[0m X \u001b[38;5;241m=\u001b[39m \u001b[38;5;28mself\u001b[39m\u001b[38;5;241m.\u001b[39m_validate_data(X, accept_sparse\u001b[38;5;241m=\u001b[39m\u001b[38;5;124m\"\u001b[39m\u001b[38;5;124mcsr\u001b[39m\u001b[38;5;124m\"\u001b[39m, reset\u001b[38;5;241m=\u001b[39m\u001b[38;5;28;01mFalse\u001b[39;00m)\n\u001b[0;32m    427\u001b[0m \u001b[38;5;66;03m# Take the opposite of the scores as bigger is better (here less\u001b[39;00m\n\u001b[0;32m    428\u001b[0m \u001b[38;5;66;03m# abnormal)\u001b[39;00m\n\u001b[1;32m--> 429\u001b[0m \u001b[38;5;28;01mreturn\u001b[39;00m \u001b[38;5;241m-\u001b[39m\u001b[38;5;28mself\u001b[39m\u001b[38;5;241m.\u001b[39m_compute_chunked_score_samples(X)\n",
      "File \u001b[1;32mC:\\ProgramData\\anaconda3\\Lib\\site-packages\\sklearn\\ensemble\\_iforest.py:460\u001b[0m, in \u001b[0;36mIsolationForest._compute_chunked_score_samples\u001b[1;34m(self, X)\u001b[0m\n\u001b[0;32m    456\u001b[0m scores \u001b[38;5;241m=\u001b[39m np\u001b[38;5;241m.\u001b[39mzeros(n_samples, order\u001b[38;5;241m=\u001b[39m\u001b[38;5;124m\"\u001b[39m\u001b[38;5;124mf\u001b[39m\u001b[38;5;124m\"\u001b[39m)\n\u001b[0;32m    458\u001b[0m \u001b[38;5;28;01mfor\u001b[39;00m sl \u001b[38;5;129;01min\u001b[39;00m slices:\n\u001b[0;32m    459\u001b[0m     \u001b[38;5;66;03m# compute score on the slices of test samples:\u001b[39;00m\n\u001b[1;32m--> 460\u001b[0m     scores[sl] \u001b[38;5;241m=\u001b[39m \u001b[38;5;28mself\u001b[39m\u001b[38;5;241m.\u001b[39m_compute_score_samples(X[sl], subsample_features)\n\u001b[0;32m    462\u001b[0m \u001b[38;5;28;01mreturn\u001b[39;00m scores\n",
      "File \u001b[1;32mC:\\ProgramData\\anaconda3\\Lib\\site-packages\\sklearn\\ensemble\\_iforest.py:484\u001b[0m, in \u001b[0;36mIsolationForest._compute_score_samples\u001b[1;34m(self, X, subsample_features)\u001b[0m\n\u001b[0;32m    481\u001b[0m X_subset \u001b[38;5;241m=\u001b[39m X[:, features] \u001b[38;5;28;01mif\u001b[39;00m subsample_features \u001b[38;5;28;01melse\u001b[39;00m X\n\u001b[0;32m    483\u001b[0m leaves_index \u001b[38;5;241m=\u001b[39m tree\u001b[38;5;241m.\u001b[39mapply(X_subset)\n\u001b[1;32m--> 484\u001b[0m node_indicator \u001b[38;5;241m=\u001b[39m tree\u001b[38;5;241m.\u001b[39mdecision_path(X_subset)\n\u001b[0;32m    485\u001b[0m n_samples_leaf \u001b[38;5;241m=\u001b[39m tree\u001b[38;5;241m.\u001b[39mtree_\u001b[38;5;241m.\u001b[39mn_node_samples[leaves_index]\n\u001b[0;32m    487\u001b[0m depths \u001b[38;5;241m+\u001b[39m\u001b[38;5;241m=\u001b[39m (\n\u001b[0;32m    488\u001b[0m     np\u001b[38;5;241m.\u001b[39mravel(node_indicator\u001b[38;5;241m.\u001b[39msum(axis\u001b[38;5;241m=\u001b[39m\u001b[38;5;241m1\u001b[39m))\n\u001b[0;32m    489\u001b[0m     \u001b[38;5;241m+\u001b[39m _average_path_length(n_samples_leaf)\n\u001b[0;32m    490\u001b[0m     \u001b[38;5;241m-\u001b[39m \u001b[38;5;241m1.0\u001b[39m\n\u001b[0;32m    491\u001b[0m )\n",
      "File \u001b[1;32mC:\\ProgramData\\anaconda3\\Lib\\site-packages\\sklearn\\tree\\_classes.py:504\u001b[0m, in \u001b[0;36mBaseDecisionTree.decision_path\u001b[1;34m(self, X, check_input)\u001b[0m\n\u001b[0;32m    482\u001b[0m \u001b[38;5;250m\u001b[39m\u001b[38;5;124;03m\"\"\"Return the decision path in the tree.\u001b[39;00m\n\u001b[0;32m    483\u001b[0m \n\u001b[0;32m    484\u001b[0m \u001b[38;5;124;03m.. versionadded:: 0.18\u001b[39;00m\n\u001b[1;32m   (...)\u001b[0m\n\u001b[0;32m    501\u001b[0m \u001b[38;5;124;03m    indicates that the samples goes through the nodes.\u001b[39;00m\n\u001b[0;32m    502\u001b[0m \u001b[38;5;124;03m\"\"\"\u001b[39;00m\n\u001b[0;32m    503\u001b[0m X \u001b[38;5;241m=\u001b[39m \u001b[38;5;28mself\u001b[39m\u001b[38;5;241m.\u001b[39m_validate_X_predict(X, check_input)\n\u001b[1;32m--> 504\u001b[0m \u001b[38;5;28;01mreturn\u001b[39;00m \u001b[38;5;28mself\u001b[39m\u001b[38;5;241m.\u001b[39mtree_\u001b[38;5;241m.\u001b[39mdecision_path(X)\n",
      "File \u001b[1;32msklearn\\tree\\_tree.pyx:905\u001b[0m, in \u001b[0;36msklearn.tree._tree.Tree.decision_path\u001b[1;34m()\u001b[0m\n",
      "File \u001b[1;32msklearn\\tree\\_tree.pyx:910\u001b[0m, in \u001b[0;36msklearn.tree._tree.Tree.decision_path\u001b[1;34m()\u001b[0m\n",
      "File \u001b[1;32msklearn\\tree\\_tree.pyx:963\u001b[0m, in \u001b[0;36msklearn.tree._tree.Tree._decision_path_dense\u001b[1;34m()\u001b[0m\n",
      "File \u001b[1;32mC:\\ProgramData\\anaconda3\\Lib\\site-packages\\scipy\\sparse\\_compressed.py:68\u001b[0m, in \u001b[0;36m_cs_matrix.__init__\u001b[1;34m(self, arg1, shape, dtype, copy)\u001b[0m\n\u001b[0;32m     63\u001b[0m     maxval \u001b[38;5;241m=\u001b[39m \u001b[38;5;28mmax\u001b[39m(shape)\n\u001b[0;32m     64\u001b[0m idx_dtype \u001b[38;5;241m=\u001b[39m \u001b[38;5;28mself\u001b[39m\u001b[38;5;241m.\u001b[39m_get_index_dtype((indices, indptr),\n\u001b[0;32m     65\u001b[0m                             maxval\u001b[38;5;241m=\u001b[39mmaxval,\n\u001b[0;32m     66\u001b[0m                             check_contents\u001b[38;5;241m=\u001b[39m\u001b[38;5;28;01mTrue\u001b[39;00m)\n\u001b[1;32m---> 68\u001b[0m \u001b[38;5;28mself\u001b[39m\u001b[38;5;241m.\u001b[39mindices \u001b[38;5;241m=\u001b[39m np\u001b[38;5;241m.\u001b[39marray(indices, copy\u001b[38;5;241m=\u001b[39mcopy,\n\u001b[0;32m     69\u001b[0m                         dtype\u001b[38;5;241m=\u001b[39midx_dtype)\n\u001b[0;32m     70\u001b[0m \u001b[38;5;28mself\u001b[39m\u001b[38;5;241m.\u001b[39mindptr \u001b[38;5;241m=\u001b[39m np\u001b[38;5;241m.\u001b[39marray(indptr, copy\u001b[38;5;241m=\u001b[39mcopy, dtype\u001b[38;5;241m=\u001b[39midx_dtype)\n\u001b[0;32m     71\u001b[0m \u001b[38;5;28mself\u001b[39m\u001b[38;5;241m.\u001b[39mdata \u001b[38;5;241m=\u001b[39m np\u001b[38;5;241m.\u001b[39marray(data, copy\u001b[38;5;241m=\u001b[39mcopy, dtype\u001b[38;5;241m=\u001b[39mdtype)\n",
      "\u001b[1;31mMemoryError\u001b[0m: Unable to allocate 87.5 MiB for an array with shape (22928469,) and data type int32"
     ]
    }
   ],
   "source": [
    "import pandas as pd\n",
    "from sklearn.ensemble import IsolationForest\n",
    "import numpy as np\n",
    "from sklearn import preprocessing\n",
    "import seaborn\n",
    "from collections import Counter\n",
    "\n",
    "#n_estimators = Trees\n",
    "model =  IsolationForest(n_estimators=500, max_samples = 0.8, max_features= 0.8, contamination = 0.01, bootstrap=True)\n",
    "\n",
    "# train isolation forest \n",
    "model.fit(final_csv13_sdh[['pcp_visit', 'any_visit', 'riskarr_downside', 'riskarr_upside', 'days_since_last_login','login_pmpm_ct',\n",
    "                           'rx_overall_net_paid_pmpm_cost', 'rx_overall_dist_gpi6_pmpm_ct',\n",
    "\t\t\t\t\t'rx_tier_1_pmpm_ct','rx_tier_2_pmpm_ct','total_allowed_pmpm_cost','total_net_paid_pmpm_cost','total_cob_paid_pmpm_cost',\n",
    "                    'total_coins_pmpm_cost','total_copay_pmpm_cost','total_deduct_pmpm_cost','total_mbr_resp_pmpm_cost','total_ip_acute_admit_days_pmpm',\n",
    "                    'total_ip_ltach_admit_days_pmpm','total_ip_maternity_admit_days_pmpm','total_ip_mhsa_admit_days_pmpm','total_ip_rehab_admit_days_pmpm',    \n",
    "                    'total_ip_snf_admit_days_pmpm','atlas_recfacpth14','atlas_ffrpth14','atlas_fsrpth14','atlas_grocpth14','atlas_povertyallagespct',\n",
    "                    'cnt_cp_emails_pmpm_ct','cnt_cp_print_pmpm_ct', 'cnt_cp_vat_pmpm_ct','cnt_cp_webstatement_pmpm_ct', 'cms_frailty_ind', \n",
    "                    'cci_score', 'fci_score', 'dcsi_score','cms_tot_ma_payment_amt','cms_tot_partd_payment_amt','comp_physical_exam', 'telehealth',\n",
    "                           'rwjf_preventable_ip_rate','rwjf_healthcare_cost','rwjf_other_pcp','rwjf_pcp_rate','rwjf_dentists_ratio',\n",
    "                           'rwjf_men_hlth_prov_ratio','rwjf_age_gt_65_pct','rwjf_native_race_pct','rwjf_asian_race_pct','rwjf_age_lt_18_pct',\n",
    "                           'rwjf_female_pct','rwjf_hispanic_pct','rwjf_hawaiian_race_pct','rwjf_african_race_pct','rwjf_white_race_pct',\n",
    "                           'rwjf_non_english_pct','rwjf_rural_pct','rwjf_population','rwjf_food_insecurity_pct','rwjf_food_env_inx',\n",
    "                           'rwjf_poor_phy_hlth_days','rwjf_diabetes_pct','rwjf_hiv_rate','rwjf_median_house_income','rwjf_income_inequ_ratio',\n",
    "                           'rwjf_resident_seg_black_inx','rwjf_resident_seg_nonwhite_inx']])\n",
    "\n",
    "# add the data to the main  \n",
    "final_csv13_sdh['anomaly'] = model.predict(final_csv13_sdh[['pcp_visit', 'any_visit', 'riskarr_downside', 'riskarr_upside', 'days_since_last_login', \n",
    "                    'login_pmpm_ct', 'rx_overall_net_paid_pmpm_cost', 'rx_overall_dist_gpi6_pmpm_ct',\n",
    "\t\t\t\t\t'rx_tier_1_pmpm_ct','rx_tier_2_pmpm_ct','total_allowed_pmpm_cost','total_net_paid_pmpm_cost','total_cob_paid_pmpm_cost',\n",
    "                    'total_coins_pmpm_cost','total_copay_pmpm_cost','total_deduct_pmpm_cost','total_mbr_resp_pmpm_cost','total_ip_acute_admit_days_pmpm',\n",
    "                    'total_ip_ltach_admit_days_pmpm','total_ip_maternity_admit_days_pmpm','total_ip_mhsa_admit_days_pmpm','total_ip_rehab_admit_days_pmpm',    \n",
    "                    'total_ip_snf_admit_days_pmpm','atlas_recfacpth14','atlas_ffrpth14','atlas_fsrpth14','atlas_grocpth14','atlas_povertyallagespct',\n",
    "                    'cnt_cp_emails_pmpm_ct','cnt_cp_print_pmpm_ct', 'cnt_cp_vat_pmpm_ct','cnt_cp_webstatement_pmpm_ct', 'cms_frailty_ind', \n",
    "                    'cci_score', 'fci_score', 'dcsi_score','cms_tot_ma_payment_amt','cms_tot_partd_payment_amt','comp_physical_exam', 'telehealth',\n",
    "                           'rwjf_preventable_ip_rate','rwjf_healthcare_cost','rwjf_other_pcp','rwjf_pcp_rate','rwjf_dentists_ratio',\n",
    "                           'rwjf_men_hlth_prov_ratio','rwjf_age_gt_65_pct','rwjf_native_race_pct','rwjf_asian_race_pct','rwjf_age_lt_18_pct',\n",
    "                           'rwjf_female_pct','rwjf_hispanic_pct','rwjf_hawaiian_race_pct','rwjf_african_race_pct','rwjf_white_race_pct',\n",
    "                           'rwjf_non_english_pct','rwjf_rural_pct','rwjf_population','rwjf_food_insecurity_pct','rwjf_food_env_inx',\n",
    "                           'rwjf_poor_phy_hlth_days','rwjf_diabetes_pct','rwjf_hiv_rate','rwjf_median_house_income','rwjf_income_inequ_ratio',\n",
    "                           'rwjf_resident_seg_black_inx','rwjf_resident_seg_nonwhite_inx']])\n",
    "\n",
    "print(np.unique(final_csv13_sdh['anomaly']))\n",
    "\n",
    "count_counter = Counter(model.predict(final_csv13_sdh[['pcp_visit', 'any_visit', 'riskarr_downside', 'riskarr_upside', 'days_since_last_login', \n",
    "                    'login_pmpm_ct', 'rx_overall_net_paid_pmpm_cost', 'rx_overall_dist_gpi6_pmpm_ct',\n",
    "\t\t\t\t\t'rx_tier_1_pmpm_ct','rx_tier_2_pmpm_ct','total_allowed_pmpm_cost','total_net_paid_pmpm_cost','total_cob_paid_pmpm_cost',\n",
    "                    'total_coins_pmpm_cost','total_copay_pmpm_cost','total_deduct_pmpm_cost','total_mbr_resp_pmpm_cost','total_ip_acute_admit_days_pmpm',\n",
    "                    'total_ip_ltach_admit_days_pmpm','total_ip_maternity_admit_days_pmpm','total_ip_mhsa_admit_days_pmpm','total_ip_rehab_admit_days_pmpm',    \n",
    "                    'total_ip_snf_admit_days_pmpm','atlas_recfacpth14','atlas_ffrpth14','atlas_fsrpth14','atlas_grocpth14','atlas_povertyallagespct',\n",
    "                    'cnt_cp_emails_pmpm_ct','cnt_cp_print_pmpm_ct', 'cnt_cp_vat_pmpm_ct','cnt_cp_webstatement_pmpm_ct', 'cms_frailty_ind', \n",
    "                    'cci_score', 'fci_score', 'dcsi_score','cms_tot_ma_payment_amt','cms_tot_partd_payment_amt','comp_physical_exam', 'telehealth',\n",
    "                           'rwjf_preventable_ip_rate','rwjf_healthcare_cost','rwjf_other_pcp','rwjf_pcp_rate','rwjf_dentists_ratio',\n",
    "                           'rwjf_men_hlth_prov_ratio','rwjf_age_gt_65_pct','rwjf_native_race_pct','rwjf_asian_race_pct','rwjf_age_lt_18_pct',\n",
    "                           'rwjf_female_pct','rwjf_hispanic_pct','rwjf_hawaiian_race_pct','rwjf_african_race_pct','rwjf_white_race_pct',\n",
    "                           'rwjf_non_english_pct','rwjf_rural_pct','rwjf_population','rwjf_food_insecurity_pct','rwjf_food_env_inx',\n",
    "                           'rwjf_poor_phy_hlth_days','rwjf_diabetes_pct','rwjf_hiv_rate','rwjf_median_house_income','rwjf_income_inequ_ratio',\n",
    "                           'rwjf_resident_seg_black_inx','rwjf_resident_seg_nonwhite_inx']]))\n",
    "\n",
    "print(\"Number of 1s:\", count_counter[1])\n",
    "print(\"Number of -1s:\", count_counter[-1])\n",
    "final_csv13_sdh.head(1000)"
   ]
  },
  {
   "cell_type": "code",
   "execution_count": null,
   "id": "5b184c4a-0f7b-4965-9a5f-1412afbd81b4",
   "metadata": {},
   "outputs": [],
   "source": [
    "# Keep only the inliers (where outlier is -1)\n",
    "final_csv13_cleaned = final_csv13_sdh[final_csv13_sdh['anomaly'] == 1].copy()\n",
    "\n",
    "# Drop the 'outlier' column since it's no longer needed\n",
    "final_csv13_cleaned.drop(columns=['anomaly'], inplace=True)\n",
    "\n",
    "# Display the cleaned data (without outliers)\n",
    "print(final_csv13_cleaned.head(1000))\n",
    "print(len(final_csv13_cleaned))"
   ]
  },
  {
   "cell_type": "code",
   "execution_count": null,
   "id": "5dd1ff55-aa17-4bda-9a7d-1ebf73e64172",
   "metadata": {},
   "outputs": [],
   "source": [
    "import pandas as pd\n",
    "\n",
    "# Read only the specified columns\n",
    "sales_channel = pd.read_csv('Sales Channel_Holdout.csv')\n",
    "\n",
    "# Display the DataFrame\n",
    "print('Sales Channel')\n",
    "print(sales_channel.head(1000))\n",
    "\n",
    "final_csv14_new_2 = pd.merge(final_csv13_cleaned, sales_channel, on='id', how='inner')\n",
    "\n",
    "print('final_csv14_new_2')\n",
    "print(final_csv14_new_2.head(1000))\n",
    "\n",
    "print('Length of final_csv14_new_2')\n",
    "print(len(final_csv14_new_2))"
   ]
  },
  {
   "cell_type": "code",
   "execution_count": null,
   "id": "4276e8c7-d3a7-4d94-b772-340a68cdf977",
   "metadata": {},
   "outputs": [],
   "source": [
    "#handles categorical data\n",
    "import pandas as pd\n",
    "import numpy as np\n",
    "from sklearn.model_selection import train_test_split\n",
    "from sklearn.ensemble import RandomForestClassifier\n",
    "from sklearn.metrics import accuracy_score, roc_auc_score, classification_report\n",
    "from sklearn.preprocessing import LabelEncoder\n",
    "\n",
    "# Drop the 'id' column as it is not useful for prediction\n",
    "#final_csv13.drop(columns=['id'], inplace=True)\n",
    "\n",
    "# Handle categorical variables (Example: Label Encoding)\n",
    "categorical_columns = ['tenure_band','rucc_category','lang_spoken_cd','channel', 'sex_cd', 'race', 'state_of_residence', 'county_of_residence', 'hcc_model_type', 'cms_model_vers_cd','veteran_ind','dual_eligible_ind','disabled_ind','lis_ind']\n",
    "# Assuming your DataFrame has those categorical columns\n",
    "for col in categorical_columns:\n",
    "    if col in final_csv14_new_2.columns:\n",
    "        le = LabelEncoder()\n",
    "        final_csv14_new_2[col] = le.fit_transform(final_csv14_new_2[col].astype(str))\n"
   ]
  },
  {
   "cell_type": "code",
   "execution_count": null,
   "id": "9c9ae807-0997-4073-8424-ae4bd9a741d8",
   "metadata": {},
   "outputs": [],
   "source": [
    "# Check for NaN values in the DataFrame\n",
    "print(final_csv14_new_2.isnull().sum())"
   ]
  },
  {
   "cell_type": "code",
   "execution_count": null,
   "id": "8bcc0475-a9e4-4135-8f1c-5ca5c9c039fb",
   "metadata": {},
   "outputs": [],
   "source": [
    "# Specify the new file path\n",
    "file_path = 'cleaned_output_file_Holdout.csv'\n",
    "\n",
    "# Export the DataFrame to CSV\n",
    "final_csv14_new_2.to_csv(file_path, index=False)\n",
    "len(final_csv14_new_2)"
   ]
  },
  {
   "cell_type": "code",
   "execution_count": null,
   "id": "bc66d8f5-5715-4493-bd5d-c29c93975334",
   "metadata": {},
   "outputs": [],
   "source": []
  }
 ],
 "metadata": {
  "kernelspec": {
   "display_name": "Python 3 (ipykernel)",
   "language": "python",
   "name": "python3"
  },
  "language_info": {
   "codemirror_mode": {
    "name": "ipython",
    "version": 3
   },
   "file_extension": ".py",
   "mimetype": "text/x-python",
   "name": "python",
   "nbconvert_exporter": "python",
   "pygments_lexer": "ipython3",
   "version": "3.11.7"
  }
 },
 "nbformat": 4,
 "nbformat_minor": 5
}
